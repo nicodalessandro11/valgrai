{
  "nbformat": 4,
  "nbformat_minor": 0,
  "metadata": {
    "colab": {
      "provenance": []
    },
    "kernelspec": {
      "name": "python3",
      "display_name": "Python 3"
    },
    "language_info": {
      "name": "python"
    }
  },
  "cells": [
    {
      "cell_type": "markdown",
      "source": [
        "# AutoMPG con regresión lineal"
      ],
      "metadata": {
        "id": "--t0GVNGVBhM"
      }
    },
    {
      "cell_type": "code",
      "execution_count": null,
      "metadata": {
        "id": "824kAu9LU3l0"
      },
      "outputs": [],
      "source": [
        "import numpy as np\n",
        "import pandas as pd\n",
        "import seaborn as sns\n",
        "import matplotlib.pyplot as plt\n",
        "from sklearn.model_selection import train_test_split, cross_val_score\n",
        "from sklearn.linear_model import LinearRegression\n",
        "from sklearn.metrics import mean_squared_error, r2_score"
      ]
    },
    {
      "cell_type": "code",
      "source": [
        "!wget -cq https://www.dropbox.com/s/s2s8pbs8lilxdqs/auto-mpg.csv"
      ],
      "metadata": {
        "id": "smHEokWwY44B"
      },
      "execution_count": null,
      "outputs": []
    },
    {
      "cell_type": "code",
      "source": [
        "!ls -la"
      ],
      "metadata": {
        "id": "OVlUZGrLZcl4"
      },
      "execution_count": null,
      "outputs": []
    },
    {
      "cell_type": "code",
      "source": [
        "# Load the dataset\n",
        "data = pd.read_csv(\"auto-mpg.csv\")  # Replace \"your_dataset.csv\" with the actual filename"
      ],
      "metadata": {
        "id": "SGe2N6pEZlqL"
      },
      "execution_count": null,
      "outputs": []
    },
    {
      "cell_type": "code",
      "source": [
        "# Shuffle the dataset\n",
        "data = data.sample(frac=1, random_state=42).reset_index(drop=True)"
      ],
      "metadata": {
        "id": "p3iW_Gj2Zy1J"
      },
      "execution_count": null,
      "outputs": []
    },
    {
      "cell_type": "code",
      "source": [
        "data.head()"
      ],
      "metadata": {
        "id": "yyzGaFvtaT8c"
      },
      "execution_count": null,
      "outputs": []
    },
    {
      "cell_type": "code",
      "source": [
        "data.describe()"
      ],
      "metadata": {
        "id": "oxRS18RrbicV"
      },
      "execution_count": null,
      "outputs": []
    },
    {
      "cell_type": "code",
      "source": [
        "# Check for missing values\n",
        "print(data.isnull().sum())  # Count the number of missing values in each column\n",
        "\n",
        "# Fill missing values with the mean of each column\n",
        "data.fillna(data.mean(), inplace=True)"
      ],
      "metadata": {
        "id": "7v1XSQfCdnE6"
      },
      "execution_count": null,
      "outputs": []
    },
    {
      "cell_type": "code",
      "source": [
        "# Aplica one-hot encoding a la columna 'origin'\n",
        "data = pd.get_dummies(data, columns=['origin'], prefix='origin')"
      ],
      "metadata": {
        "id": "sWA1YFd5eA7S"
      },
      "execution_count": null,
      "outputs": []
    },
    {
      "cell_type": "code",
      "source": [
        "data.head()"
      ],
      "metadata": {
        "id": "N0sRvJAmef7q"
      },
      "execution_count": null,
      "outputs": []
    },
    {
      "cell_type": "code",
      "source": [
        "# Utiliza el método drop() para eliminar la columna 'name'\n",
        "data = data.drop('name', axis=1)"
      ],
      "metadata": {
        "id": "9c27USt7e69M"
      },
      "execution_count": null,
      "outputs": []
    },
    {
      "cell_type": "code",
      "source": [
        "data.head()"
      ],
      "metadata": {
        "id": "N_8w0pWZe-Dl"
      },
      "execution_count": null,
      "outputs": []
    },
    {
      "cell_type": "code",
      "source": [
        "# Calcula la matriz de correlación\n",
        "correlation_matrix = data.corr()\n",
        "\n",
        "# Configura el tamaño de la figura\n",
        "plt.figure(figsize=(10, 8))\n",
        "\n",
        "# Utiliza heatmap para visualizar la matriz de correlación\n",
        "sns.heatmap(correlation_matrix, annot=True, cmap='coolwarm', fmt=\".2f\", linewidths=.5)\n",
        "\n",
        "# Añade título al gráfico\n",
        "plt.title(\"Matriz de Correlación\")\n",
        "\n",
        "# Muestra el gráfico\n",
        "plt.show()"
      ],
      "metadata": {
        "id": "n6xJR7mDfT_5"
      },
      "execution_count": null,
      "outputs": []
    },
    {
      "cell_type": "code",
      "source": [
        "# Separate the feature matrix X and target vector y\n",
        "X = data.drop(\"mpg\", axis=1)\n",
        "y = data[\"mpg\"]"
      ],
      "metadata": {
        "id": "-1lrV9b8fwRG"
      },
      "execution_count": null,
      "outputs": []
    },
    {
      "cell_type": "code",
      "source": [
        "from sklearn.model_selection import cross_val_score, KFold\n",
        "from sklearn.linear_model import LinearRegression\n",
        "from sklearn.metrics import make_scorer, mean_squared_error, r2_score"
      ],
      "metadata": {
        "id": "XZ3WY4pmghrx"
      },
      "execution_count": null,
      "outputs": []
    },
    {
      "cell_type": "code",
      "source": [
        "# Crear un modelo de regresión lineal\n",
        "model = LinearRegression()"
      ],
      "metadata": {
        "id": "j5xckgukgjG_"
      },
      "execution_count": null,
      "outputs": []
    },
    {
      "cell_type": "code",
      "source": [
        "# Cross-validation\n",
        "cv_scores = cross_val_score(model, X, y, cv=5, scoring=\"neg_mean_squared_error\")\n",
        "cv_rmse_scores = np.sqrt(-cv_scores)\n",
        "cv_r2_scores = cross_val_score(model, X, y, cv=5, scoring=\"r2\")\n",
        "\n",
        "print(\"Cross-Validation RMSE:\", cv_rmse_scores)\n",
        "print(\"Cross-Validation R2:\", cv_r2_scores)"
      ],
      "metadata": {
        "id": "JmJ8acv3gp3v"
      },
      "execution_count": null,
      "outputs": []
    },
    {
      "cell_type": "code",
      "source": [
        "cv_rmse_mean = np.mean(cv_rmse_scores)\n",
        "cv_r2_mean = np.mean(cv_r2_scores)\n",
        "\n",
        "print(\"Cross-Validation Average RMSE:\", cv_rmse_mean)\n",
        "print(\"Cross-Validation Average R2:\", cv_r2_mean)"
      ],
      "metadata": {
        "id": "zY_TekAxgyB8"
      },
      "execution_count": null,
      "outputs": []
    },
    {
      "cell_type": "code",
      "source": [
        "def mpg_to_kmpl(mpg):\n",
        "    # Factor de conversión de millas a kilómetros y de galones a litros\n",
        "    miles_to_km = 1.60934\n",
        "    gallons_to_liters = 3.78541\n",
        "\n",
        "    # Realizar la conversión de mpg a km/l\n",
        "    kmpl = (mpg * miles_to_km) / gallons_to_liters\n",
        "\n",
        "    return kmpl"
      ],
      "metadata": {
        "id": "D1Cq3KsFha5d"
      },
      "execution_count": null,
      "outputs": []
    },
    {
      "cell_type": "code",
      "source": [
        "print(mpg_to_kmpl(cv_rmse_mean))"
      ],
      "metadata": {
        "id": "KtUv9eplhu1U"
      },
      "execution_count": null,
      "outputs": []
    },
    {
      "cell_type": "code",
      "source": [],
      "metadata": {
        "id": "yF0TzoS4eWAf"
      },
      "execution_count": null,
      "outputs": []
    }
  ]
}