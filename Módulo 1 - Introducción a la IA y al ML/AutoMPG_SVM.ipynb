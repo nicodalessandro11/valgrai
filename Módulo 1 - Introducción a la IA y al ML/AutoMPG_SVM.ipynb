{
  "nbformat": 4,
  "nbformat_minor": 0,
  "metadata": {
    "colab": {
      "provenance": []
    },
    "kernelspec": {
      "name": "python3",
      "display_name": "Python 3"
    },
    "language_info": {
      "name": "python"
    }
  },
  "cells": [
    {
      "cell_type": "markdown",
      "source": [
        "# AutoMPG con SVM"
      ],
      "metadata": {
        "id": "rgC4Q2ngvxxz"
      }
    },
    {
      "cell_type": "code",
      "execution_count": null,
      "metadata": {
        "id": "UX1hs8eDvvBP"
      },
      "outputs": [],
      "source": [
        "import numpy as np\n",
        "import pandas as pd\n",
        "import seaborn as sns\n",
        "import matplotlib.pyplot as plt\n",
        "from sklearn.svm import SVR\n",
        "from sklearn.model_selection import train_test_split, cross_val_score, GridSearchCV, cross_val_predict\n",
        "from sklearn.metrics import mean_squared_error, r2_score"
      ]
    },
    {
      "cell_type": "code",
      "source": [
        "!wget -cq https://www.dropbox.com/s/s2s8pbs8lilxdqs/auto-mpg.csv"
      ],
      "metadata": {
        "id": "LStVwO7GwLUL"
      },
      "execution_count": null,
      "outputs": []
    },
    {
      "cell_type": "code",
      "source": [
        "# Cargar el dataset\n",
        "data = pd.read_csv(\"auto-mpg.csv\")"
      ],
      "metadata": {
        "id": "jWniW88NwTGC"
      },
      "execution_count": null,
      "outputs": []
    },
    {
      "cell_type": "code",
      "source": [
        "# Barajear el dataset\n",
        "data = data.sample(frac=1, random_state=42).reset_index(drop=True)"
      ],
      "metadata": {
        "id": "qNIn348ewW3M"
      },
      "execution_count": null,
      "outputs": []
    },
    {
      "cell_type": "code",
      "source": [
        "# Preprocesamiento\n",
        "data.fillna(data.mean(), inplace=True)\n",
        "data = pd.get_dummies(data, columns=['origin'], prefix='origin')\n",
        "data = data.drop('name', axis=1)"
      ],
      "metadata": {
        "id": "TO-gYScdwZVX"
      },
      "execution_count": null,
      "outputs": []
    },
    {
      "cell_type": "code",
      "source": [
        "# Separar la matriz de características X y el vector objetivo y\n",
        "X = data.drop(\"mpg\", axis=1)\n",
        "y = data[\"mpg\"]"
      ],
      "metadata": {
        "id": "oP8bznlQwcSK"
      },
      "execution_count": null,
      "outputs": []
    },
    {
      "cell_type": "code",
      "source": [
        "# Escalamiento de los datos\n",
        "from sklearn.preprocessing import StandardScaler\n",
        "scaler = StandardScaler()\n",
        "X_scaled = scaler.fit_transform(X)"
      ],
      "metadata": {
        "id": "7Yyl9D_Bwe3g"
      },
      "execution_count": null,
      "outputs": []
    },
    {
      "cell_type": "code",
      "source": [
        "# Configuración de parámetros para GridSearchCV\n",
        "param_grid = {\n",
        "    'C': [20, 25, 30],\n",
        "    'gamma': [1, 0.1, 0.01],\n",
        "    'kernel': ['rbf', 'poly', 'linear']\n",
        "}"
      ],
      "metadata": {
        "id": "OTaFxXYWwpMa"
      },
      "execution_count": null,
      "outputs": []
    },
    {
      "cell_type": "code",
      "source": [
        "# Crear un modelo SVR con GridSearchCV\n",
        "svr = SVR()\n",
        "grid_search = GridSearchCV(svr, param_grid, refit=True, verbose=2, cv=5, scoring='neg_mean_squared_error')"
      ],
      "metadata": {
        "id": "bPttGyKWwwcm"
      },
      "execution_count": null,
      "outputs": []
    },
    {
      "cell_type": "code",
      "source": [
        "# Entrenar el modelo con GridSearchCV\n",
        "grid_search.fit(X_scaled, y)"
      ],
      "metadata": {
        "id": "xckJy0jIw68S"
      },
      "execution_count": null,
      "outputs": []
    },
    {
      "cell_type": "code",
      "source": [
        "# Mejores parámetros\n",
        "print(\"Mejores parámetros:\", grid_search.best_params_)"
      ],
      "metadata": {
        "id": "uAbB7AwfxNl8"
      },
      "execution_count": null,
      "outputs": []
    },
    {
      "cell_type": "code",
      "source": [
        "# Mejor modelo encontrado por GridSearchCV\n",
        "best_svr = grid_search.best_estimator_"
      ],
      "metadata": {
        "id": "IJlNiukk0p7C"
      },
      "execution_count": null,
      "outputs": []
    },
    {
      "cell_type": "code",
      "source": [
        "# Validación cruzada con el mejor modelo\n",
        "cv_scores = cross_val_score(best_svr, X_scaled, y, cv=5, scoring=\"neg_mean_squared_error\")\n",
        "cv_rmse_scores = np.sqrt(-cv_scores)\n",
        "cv_r2_scores = cross_val_score(best_svr, X_scaled, y, cv=5, scoring=\"r2\")"
      ],
      "metadata": {
        "id": "wdiuHovL0w68"
      },
      "execution_count": null,
      "outputs": []
    },
    {
      "cell_type": "code",
      "source": [
        "print(\"Cross-Validation RMSE:\", cv_rmse_scores)\n",
        "print(\"Cross-Validation R2:\", cv_r2_scores)"
      ],
      "metadata": {
        "id": "0man4oFT003C"
      },
      "execution_count": null,
      "outputs": []
    },
    {
      "cell_type": "code",
      "source": [
        "cv_rmse_mean = np.mean(cv_rmse_scores)\n",
        "cv_r2_mean = np.mean(cv_r2_scores)\n",
        "\n",
        "print(\"Cross-Validation Average RMSE:\", cv_rmse_mean)\n",
        "print(\"Cross-Validation Average R2:\", cv_r2_mean)"
      ],
      "metadata": {
        "id": "3KTYsnzh03bX"
      },
      "execution_count": null,
      "outputs": []
    },
    {
      "cell_type": "code",
      "source": [
        "def mpg_to_kmpl(mpg):\n",
        "    # Factor de conversión de millas a kilómetros y de galones a litros\n",
        "    miles_to_km = 1.60934\n",
        "    gallons_to_liters = 3.78541\n",
        "\n",
        "    # Realizar la conversión de mpg a km/l\n",
        "    kmpl = (mpg * miles_to_km) / gallons_to_liters\n",
        "\n",
        "    return kmpl"
      ],
      "metadata": {
        "id": "z8oXig0m0_aL"
      },
      "execution_count": null,
      "outputs": []
    },
    {
      "cell_type": "code",
      "source": [
        "print(mpg_to_kmpl(cv_rmse_mean))"
      ],
      "metadata": {
        "id": "B1HaF6sq1A06"
      },
      "execution_count": null,
      "outputs": []
    },
    {
      "cell_type": "code",
      "source": [
        "!pip install eli5"
      ],
      "metadata": {
        "id": "jDwo2b_N2g2N"
      },
      "execution_count": null,
      "outputs": []
    },
    {
      "cell_type": "code",
      "source": [
        "import eli5\n",
        "from eli5.sklearn import PermutationImportance\n",
        "\n",
        "# Asegúrate de que tu modelo SVM (best_svr) esté entrenado y listo para usar\n",
        "# y que X_scaled y y sean tus datos de características y objetivo.\n",
        "\n",
        "# Crear un objeto de importancia de permutación usando el modelo SVM\n",
        "perm = PermutationImportance(best_svr, random_state=1).fit(X_scaled, y)\n",
        "\n",
        "# Mostrar la importancia de las características\n",
        "eli5.show_weights(perm, feature_names = X.columns.tolist())\n"
      ],
      "metadata": {
        "id": "F2Kj7eVD2cox"
      },
      "execution_count": null,
      "outputs": []
    }
  ]
}