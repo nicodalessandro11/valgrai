{
  "nbformat": 4,
  "nbformat_minor": 0,
  "metadata": {
    "colab": {
      "provenance": []
    },
    "kernelspec": {
      "name": "python3",
      "display_name": "Python 3"
    },
    "language_info": {
      "name": "python"
    }
  },
  "cells": [
    {
      "cell_type": "markdown",
      "source": [
        "# EDA preliminar para clasificación"
      ],
      "metadata": {
        "id": "r-nbisOUZnOU"
      }
    },
    {
      "cell_type": "code",
      "execution_count": null,
      "metadata": {
        "id": "cYLsAxTTZkDv"
      },
      "outputs": [],
      "source": [
        "# Importa las bibliotecas necesarias\n",
        "import pandas as pd\n",
        "import matplotlib.pyplot as plt\n",
        "import seaborn as sns\n",
        "from sklearn.datasets import load_iris"
      ]
    },
    {
      "cell_type": "code",
      "source": [
        "# Carga el conjunto de datos Iris\n",
        "iris = load_iris()\n",
        "data = pd.DataFrame(data=iris.data, columns=iris.feature_names)\n",
        "data['target'] = iris.target"
      ],
      "metadata": {
        "id": "RGKYr_FFcKWy"
      },
      "execution_count": null,
      "outputs": []
    },
    {
      "cell_type": "code",
      "source": [
        "# Muestra las primeras filas del conjunto de datos\n",
        "data.head()"
      ],
      "metadata": {
        "id": "zpD0axsFckuH"
      },
      "execution_count": null,
      "outputs": []
    },
    {
      "cell_type": "code",
      "source": [
        "# Resumen de estadísticas descriptivas\n",
        "data.describe()"
      ],
      "metadata": {
        "id": "yPAIv3RNdAfk"
      },
      "execution_count": null,
      "outputs": []
    },
    {
      "cell_type": "code",
      "source": [
        "# Gráfico de pares para ver relaciones entre características\n",
        "sns.pairplot(data=data, hue='target')\n",
        "plt.show()"
      ],
      "metadata": {
        "id": "iUpxC7Dede0Q"
      },
      "execution_count": null,
      "outputs": []
    },
    {
      "cell_type": "code",
      "source": [
        "# Histogramas de las características\n",
        "plt.figure(figsize=(12, 6))\n",
        "for i, feature in enumerate(iris.feature_names):\n",
        "    plt.subplot(2, 2, i + 1)\n",
        "    sns.histplot(data=data, x=feature, hue='target', kde=True)\n",
        "plt.show()"
      ],
      "metadata": {
        "id": "Im8OIljTfN0Y"
      },
      "execution_count": null,
      "outputs": []
    },
    {
      "cell_type": "code",
      "source": [
        "# Boxplots para visualizar distribución y valores atípicos\n",
        "plt.figure(figsize=(12, 6))\n",
        "for i, feature in enumerate(iris.feature_names):\n",
        "    plt.subplot(2, 2, i + 1)\n",
        "    sns.boxplot(x='target', y=feature, data=data)\n",
        "plt.show()\n"
      ],
      "metadata": {
        "id": "gcxh2I29fetn"
      },
      "execution_count": null,
      "outputs": []
    },
    {
      "cell_type": "code",
      "source": [
        "# Correlación entre características\n",
        "correlation_matrix = data.corr()\n",
        "sns.heatmap(correlation_matrix, annot=True, cmap='coolwarm')\n",
        "plt.title('Matriz de Correlación')\n",
        "plt.show()"
      ],
      "metadata": {
        "id": "Rc9fFIwsftq7"
      },
      "execution_count": null,
      "outputs": []
    },
    {
      "cell_type": "code",
      "source": [
        "# Comprueba si hay valores faltantes en el conjunto de datos\n",
        "missing_values = data.isna().sum()\n",
        "\n",
        "# Muestra la cantidad de valores faltantes por característica\n",
        "print(\"Valores faltantes por característica:\")\n",
        "print(missing_values)"
      ],
      "metadata": {
        "id": "AWBsndsQhGsD"
      },
      "execution_count": null,
      "outputs": []
    },
    {
      "cell_type": "code",
      "source": [
        "# Importa las bibliotecas necesarias\n",
        "import pandas as pd\n",
        "import matplotlib.pyplot as plt\n",
        "import seaborn as sns\n",
        "from sklearn.datasets import load_iris\n",
        "from sklearn.model_selection import train_test_split\n",
        "from sklearn.naive_bayes import GaussianNB\n",
        "from sklearn.metrics import accuracy_score, precision_score, recall_score, f1_score, confusion_matrix, classification_report\n",
        "from sklearn.model_selection import cross_val_predict"
      ],
      "metadata": {
        "id": "QefZvoYRUkQP"
      },
      "execution_count": null,
      "outputs": []
    },
    {
      "cell_type": "code",
      "source": [
        "# Divide el conjunto de datos en características (X) y etiquetas (y)\n",
        "X = data.drop('target', axis=1)\n",
        "y = data['target']"
      ],
      "metadata": {
        "id": "kQ_HnkqHUqsO"
      },
      "execution_count": null,
      "outputs": []
    },
    {
      "cell_type": "code",
      "source": [
        "# Crea un modelo Naive Bayes\n",
        "naive_bayes_model = GaussianNB()"
      ],
      "metadata": {
        "id": "xbxrRtDHVBEe"
      },
      "execution_count": null,
      "outputs": []
    },
    {
      "cell_type": "code",
      "source": [
        "# Realiza cross-validation con 5-fold\n",
        "predicted = cross_val_predict(naive_bayes_model, X, y, cv=5)"
      ],
      "metadata": {
        "id": "tXzID74lVF2s"
      },
      "execution_count": null,
      "outputs": []
    },
    {
      "cell_type": "code",
      "source": [
        "# Calcula las métricas\n",
        "accuracy = accuracy_score(y, predicted)\n",
        "precision = precision_score(y, predicted, average='macro')\n",
        "recall = recall_score(y, predicted, average='macro')\n",
        "f1 = f1_score(y, predicted, average='macro')\n",
        "confusion = confusion_matrix(y, predicted)\n",
        "report = classification_report(y, predicted)"
      ],
      "metadata": {
        "id": "q_o11zDdVQuC"
      },
      "execution_count": null,
      "outputs": []
    },
    {
      "cell_type": "code",
      "source": [
        "# Muestra las métricas\n",
        "print(f\"Accuracy: {accuracy}\")\n",
        "print(f\"Precision: {precision}\")\n",
        "print(f\"Recall: {recall}\")\n",
        "print(f\"F1 Score: {f1}\")"
      ],
      "metadata": {
        "id": "-UXDR0zpVZDB"
      },
      "execution_count": null,
      "outputs": []
    },
    {
      "cell_type": "code",
      "source": [
        "print(confusion)"
      ],
      "metadata": {
        "id": "fAleAaujWAbK"
      },
      "execution_count": null,
      "outputs": []
    },
    {
      "cell_type": "code",
      "source": [
        "# Muestra la matriz de confusión\n",
        "plt.figure(figsize=(8, 6))\n",
        "sns.heatmap(confusion, annot=True, cmap='Blues', fmt='d')\n",
        "plt.xlabel('Predicciones')\n",
        "plt.ylabel('Valores reales')\n",
        "plt.title('Matriz de Confusión')\n",
        "plt.show()"
      ],
      "metadata": {
        "id": "2SRncNd-V9w7"
      },
      "execution_count": null,
      "outputs": []
    },
    {
      "cell_type": "code",
      "source": [
        "# Muestra el informe de clasificación por clase\n",
        "print(\"Informe de clasificación por clase:\")\n",
        "print(report)"
      ],
      "metadata": {
        "id": "gpiMnWMVWdEx"
      },
      "execution_count": null,
      "outputs": []
    }
  ]
}