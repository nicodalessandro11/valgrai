{
  "nbformat": 4,
  "nbformat_minor": 0,
  "metadata": {
    "colab": {
      "provenance": []
    },
    "kernelspec": {
      "name": "python3",
      "display_name": "Python 3"
    },
    "language_info": {
      "name": "python"
    }
  },
  "cells": [
    {
      "cell_type": "markdown",
      "source": [
        "# EDA en regresión"
      ],
      "metadata": {
        "id": "zXYShsjOk5M0"
      }
    },
    {
      "cell_type": "code",
      "execution_count": null,
      "metadata": {
        "id": "5cdJdcq4kwrN"
      },
      "outputs": [],
      "source": [
        "# Importa las bibliotecas necesarias\n",
        "import pandas as pd\n",
        "import matplotlib.pyplot as plt\n",
        "import seaborn as sns\n",
        "from sklearn.datasets import fetch_california_housing"
      ]
    },
    {
      "cell_type": "code",
      "source": [
        "# Carga el conjunto de datos de California Housing\n",
        "california = fetch_california_housing()\n",
        "data = pd.DataFrame(california.data, columns=california.feature_names)\n",
        "data['MEDV'] = california.target"
      ],
      "metadata": {
        "id": "fK_I4XZbl8NC"
      },
      "execution_count": null,
      "outputs": []
    },
    {
      "cell_type": "code",
      "source": [
        "data.head()"
      ],
      "metadata": {
        "id": "dHV6xlwDmo4N"
      },
      "execution_count": null,
      "outputs": []
    },
    {
      "cell_type": "code",
      "source": [
        "data.describe()"
      ],
      "metadata": {
        "id": "756QGK0vm17c"
      },
      "execution_count": null,
      "outputs": []
    },
    {
      "cell_type": "code",
      "source": [
        "# Visualiza cómo se distribuyen los precios de las viviendas\n",
        "plt.figure(figsize=(8, 6))\n",
        "sns.histplot(data['MEDV'], bins=30, kde=True)\n",
        "plt.title('Distribución de Precios de Viviendas')\n",
        "plt.xlabel('Precio Medio (MEDV)')\n",
        "plt.ylabel('Frecuencia')\n",
        "plt.show()"
      ],
      "metadata": {
        "id": "yD2FMeKRnNdU"
      },
      "execution_count": null,
      "outputs": []
    },
    {
      "cell_type": "code",
      "source": [
        "# Calcula la matriz de correlación y visualízala como un mapa de calor\n",
        "correlation_matrix = data.corr()\n",
        "plt.figure(figsize=(12, 10))\n",
        "sns.heatmap(correlation_matrix, annot=True, cmap='coolwarm', fmt=\".2f\")\n",
        "plt.title('Matriz de Correlación')\n",
        "plt.show()"
      ],
      "metadata": {
        "id": "ugB9qZoknbks"
      },
      "execution_count": null,
      "outputs": []
    },
    {
      "cell_type": "code",
      "source": [
        "# Crear un pairplot para visualizar las relaciones entre características\n",
        "sns.set(style=\"ticks\")\n",
        "sns.pairplot(data, x_vars=['MedInc', 'HouseAge', 'AveRooms', 'AveBedrms'], y_vars=['MEDV'], kind='scatter', height=3)\n",
        "plt.suptitle('Pairplot de Características vs. Precio Medio (MEDV)', y=1.02)\n",
        "plt.show()\n",
        "\n"
      ],
      "metadata": {
        "id": "QQTFO_08oR_t"
      },
      "execution_count": null,
      "outputs": []
    },
    {
      "cell_type": "code",
      "source": [
        "# Detecta los valores faltantes en todo el DataFrame\n",
        "missing_data = data.isnull().sum()"
      ],
      "metadata": {
        "id": "ofxG02jSphq-"
      },
      "execution_count": null,
      "outputs": []
    },
    {
      "cell_type": "code",
      "source": [
        "missing_data"
      ],
      "metadata": {
        "id": "dqkIg-pIpoHz"
      },
      "execution_count": null,
      "outputs": []
    }
  ]
}