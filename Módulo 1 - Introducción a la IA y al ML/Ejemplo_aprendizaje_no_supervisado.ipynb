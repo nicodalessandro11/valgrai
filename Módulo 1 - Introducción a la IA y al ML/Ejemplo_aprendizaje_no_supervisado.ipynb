{
  "nbformat": 4,
  "nbformat_minor": 0,
  "metadata": {
    "colab": {
      "provenance": []
    },
    "kernelspec": {
      "name": "python3",
      "display_name": "Python 3"
    },
    "language_info": {
      "name": "python"
    }
  },
  "cells": [
    {
      "cell_type": "markdown",
      "source": [
        "# Ejemplo aprendizaje no supervisado"
      ],
      "metadata": {
        "id": "sz95pbx2_O-x"
      }
    },
    {
      "cell_type": "markdown",
      "source": [
        "Generación de los clusters"
      ],
      "metadata": {
        "id": "OVC7AeqOBca5"
      }
    },
    {
      "cell_type": "code",
      "source": [
        "import pandas as pd\n",
        "import numpy as np\n",
        "from sklearn.datasets import make_blobs\n",
        "\n",
        "# Parámetros para la generación de los clusters\n",
        "n_samples = 1000  # Número total de puntos\n",
        "centers = 5       # Número de centros (clusters)\n",
        "cluster_std = 1.1  # Desviación estándar de los clusters\n",
        "\n",
        "# Generar los datos de los clusters para 'Edad' y 'Años de Antigüedad'\n",
        "X, _ = make_blobs(n_samples=n_samples, centers=centers, cluster_std=cluster_std, random_state=42)\n",
        "\n",
        "# Asignar la 'Edad' y 'Años de Antigüedad' a partir de los clusters generados\n",
        "# Normalizamos y escalamos los datos para que se ajusten a rangos realistas\n",
        "age = (X[:, 0] - X[:, 0].min()) / (X[:, 0].max() - X[:, 0].min()) * 45 + 20  # Edad entre 20 y 65\n",
        "years_in_company = (X[:, 1] - X[:, 1].min()) / (X[:, 1].max() - X[:, 1].min()) * 40  # Años entre 0 y 40\n",
        "\n",
        "# Generar datos aleatorios para 'Sexo' (0 para femenino, 1 para masculino)\n",
        "sex = np.random.randint(2, size=n_samples)\n",
        "\n",
        "# Crear un DataFrame con los datos\n",
        "data = pd.DataFrame({'Sexo': sex, 'Edad': np.round(age), 'Años de Antigüedad': np.round(years_in_company)})\n",
        "\n",
        "# Guardar el DataFrame en un archivo CSV\n",
        "data.to_csv('employee_cluster_data.csv', index=False)\n"
      ],
      "metadata": {
        "id": "GrGq6CxN_Ogp"
      },
      "execution_count": null,
      "outputs": []
    },
    {
      "cell_type": "code",
      "execution_count": null,
      "metadata": {
        "id": "OUUZPdrt_IaW"
      },
      "outputs": [],
      "source": [
        "import pandas as pd\n",
        "from sklearn.preprocessing import StandardScaler\n",
        "import plotly.express as px\n",
        "\n",
        "# Leer los datos\n",
        "data = pd.read_csv('employee_cluster_data.csv')\n",
        "\n",
        "# Preparar los datos para K-means (Normalizar)\n",
        "scaler = StandardScaler()\n",
        "data_scaled = scaler.fit_transform(data[['Edad', 'Años de Antigüedad']])\n",
        "\n",
        "# Añadir los datos normalizados al DataFrame\n",
        "data['Edad_Normalizada'] = data_scaled[:, 0]\n",
        "data['Años_Antigüedad_Normalizada'] = data_scaled[:, 1]\n",
        "\n",
        "# Crear una visualización 3D con Plotly\n",
        "fig = px.scatter_3d(data, x='Edad_Normalizada', y='Años_Antigüedad_Normalizada', z='Sexo',\n",
        "                    color='Sexo', title='Visualización 3D de los Empleados')\n",
        "fig.show()\n"
      ]
    },
    {
      "cell_type": "code",
      "source": [
        "import pandas as pd\n",
        "from sklearn.cluster import KMeans\n",
        "from sklearn.preprocessing import StandardScaler\n",
        "import matplotlib.pyplot as plt\n",
        "\n",
        "# Leer los datos\n",
        "data = pd.read_csv('employee_cluster_data.csv')\n",
        "\n",
        "# Normalizar los datos\n",
        "scaler = StandardScaler()\n",
        "data_scaled = scaler.fit_transform(data[['Edad', 'Años de Antigüedad']])\n",
        "\n",
        "# Método del codo para encontrar el número óptimo de clusters\n",
        "wcss = []  # Lista para guardar la suma de cuadrados dentro del cluster\n",
        "for i in range(1, 11):  # Probando de 1 a 10 clusters\n",
        "    kmeans = KMeans(n_clusters=i, init='k-means++', max_iter=300, n_init=10, random_state=42)\n",
        "    kmeans.fit(data_scaled)\n",
        "    wcss.append(kmeans.inertia_)\n",
        "\n",
        "# Visualizar el método del codo\n",
        "plt.figure(figsize=(10, 6))\n",
        "plt.plot(range(1, 11), wcss, marker='o', linestyle='--')\n",
        "plt.title('Método del Codo para determinar el número óptimo de clusters')\n",
        "plt.xlabel('Número de clusters')\n",
        "plt.ylabel('WCSS')  # WCSS: Within-Cluster Sum of Square\n",
        "plt.show()\n"
      ],
      "metadata": {
        "id": "Af1extnvEsVv"
      },
      "execution_count": null,
      "outputs": []
    },
    {
      "cell_type": "code",
      "source": [
        "import pandas as pd\n",
        "from sklearn.cluster import KMeans\n",
        "from sklearn.preprocessing import StandardScaler\n",
        "import plotly.express as px\n",
        "\n",
        "# Leer los datos\n",
        "data = pd.read_csv('employee_cluster_data.csv')\n",
        "\n",
        "# Normalizar los datos\n",
        "scaler = StandardScaler()\n",
        "data_scaled = scaler.fit_transform(data[['Edad', 'Años de Antigüedad']])\n",
        "\n",
        "# Aplicar K-means con el número seleccionado de clusters\n",
        "n_clusters = 5   # Según hemos visto anteriormente\n",
        "kmeans = KMeans(n_clusters=n_clusters, init='k-means++', max_iter=300, n_init=10, random_state=42)\n",
        "clusters = kmeans.fit_predict(data_scaled)\n",
        "\n",
        "# Añadir las etiquetas de cluster al DataFrame\n",
        "data['Cluster'] = clusters\n",
        "\n",
        "# Visualizar los datos con Plotly\n",
        "fig = px.scatter_3d(data, x='Edad', y='Años de Antigüedad', z='Sexo',\n",
        "                    color='Cluster', title='Visualización 3D de los Empleados con Clusters')\n",
        "fig.show()\n"
      ],
      "metadata": {
        "id": "WmFw0zB5Fty5"
      },
      "execution_count": null,
      "outputs": []
    }
  ]
}