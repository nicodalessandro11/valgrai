{
  "nbformat": 4,
  "nbformat_minor": 0,
  "metadata": {
    "colab": {
      "provenance": []
    },
    "kernelspec": {
      "name": "python3",
      "display_name": "Python 3"
    },
    "language_info": {
      "name": "python"
    }
  },
  "cells": [
    {
      "cell_type": "markdown",
      "source": [
        "# Titanic con DT, RF, y XGBoost"
      ],
      "metadata": {
        "id": "CNFc0bhxjuZA"
      }
    },
    {
      "cell_type": "code",
      "execution_count": null,
      "metadata": {
        "id": "cim3Rz7XjpNz"
      },
      "outputs": [],
      "source": [
        "import pandas as pd\n",
        "import numpy as np\n",
        "import seaborn as sns\n",
        "import matplotlib.pyplot as plt\n",
        "from sklearn.tree import DecisionTreeClassifier\n",
        "from sklearn.ensemble import RandomForestClassifier\n",
        "from sklearn.model_selection import train_test_split, GridSearchCV, cross_val_score, cross_val_predict\n",
        "from sklearn.metrics import confusion_matrix, classification_report\n",
        "from sklearn.preprocessing import StandardScaler\n",
        "from xgboost import XGBClassifier\n",
        "\n",
        "# Cargamos los datos\n",
        "df = pd.read_csv('https://raw.githubusercontent.com/datasciencedojo/datasets/master/titanic.csv')\n",
        "\n",
        "# Preprocesamiento igual que en tu código\n",
        "df = df.drop(['Cabin', 'Ticket', 'Name', 'PassengerId'], axis=1)\n",
        "mean_age = df['Age'].mean()\n",
        "df['Age'].fillna(mean_age, inplace=True)\n",
        "df = pd.get_dummies(df, drop_first=True)\n",
        "\n",
        "# Definimos las variables independientes y la variable objetivo\n",
        "X = df.drop('Survived', axis=1)\n",
        "y = df['Survived']\n",
        "\n",
        "# Escalamos los datos\n",
        "scaler = StandardScaler()\n",
        "X_scaled = scaler.fit_transform(X)"
      ]
    },
    {
      "cell_type": "code",
      "source": [
        "# Configuración de parámetros para GridSearchCV para cada modelo\n",
        "param_grid_dt = {\n",
        "    'max_depth': [None, 5, 10, 15],\n",
        "    'min_samples_split': [2, 5, 10],\n",
        "    'min_samples_leaf': [1, 2, 4]\n",
        "}\n",
        "\n",
        "param_grid_rf = {\n",
        "    'n_estimators': [100, 200, 500],\n",
        "    'max_depth': [None, 5, 10, 15],\n",
        "    'min_samples_split': [2, 5, 10],\n",
        "    'min_samples_leaf': [1, 2, 4]\n",
        "}\n",
        "\n",
        "param_grid_xgb = {\n",
        "    'n_estimators': [100, 200, 500],\n",
        "    'max_depth': [3, 5, 7, 10],\n",
        "    'learning_rate': [0.1, 0.01, 0.001]\n",
        "}"
      ],
      "metadata": {
        "id": "bWqQHdn0kQ9t"
      },
      "execution_count": null,
      "outputs": []
    },
    {
      "cell_type": "code",
      "source": [
        "# Función para entrenar y evaluar cada modelo\n",
        "def train_and_evaluate_model(model, param_grid, X, y):\n",
        "    grid_search = GridSearchCV(model, param_grid, refit=True, verbose=2, cv=5)\n",
        "    grid_search.fit(X, y)\n",
        "    print(\"Mejores parámetros:\", grid_search.best_params_)\n",
        "    best_model = grid_search.best_estimator_\n",
        "    y_pred = cross_val_predict(best_model, X, y, cv=5)\n",
        "    confusion = confusion_matrix(y, y_pred)\n",
        "    classification_rep = classification_report(y, y_pred)\n",
        "    print(\"Matriz de Confusión:\\n\", confusion)\n",
        "    print(\"Informe de Clasificación:\\n\", classification_rep)"
      ],
      "metadata": {
        "id": "4ezpdKoSkbjx"
      },
      "execution_count": null,
      "outputs": []
    },
    {
      "cell_type": "code",
      "source": [
        "# Entrenar y evaluar Decision Tree\n",
        "print(\"Evaluación del Árbol de Decisión:\")\n",
        "train_and_evaluate_model(DecisionTreeClassifier(), param_grid_dt, X_scaled, y)"
      ],
      "metadata": {
        "id": "PUgcvK1SkjdV"
      },
      "execution_count": null,
      "outputs": []
    },
    {
      "cell_type": "code",
      "source": [
        "# Entrenar y evaluar Random Forest\n",
        "print(\"Evaluación del Random Forest:\")\n",
        "train_and_evaluate_model(RandomForestClassifier(), param_grid_rf, X_scaled, y)"
      ],
      "metadata": {
        "id": "7z69UnQOlwT8"
      },
      "execution_count": null,
      "outputs": []
    },
    {
      "cell_type": "code",
      "source": [
        "# Entrenar y evaluar XGBoost\n",
        "print(\"Evaluación de XGBoost:\")\n",
        "train_and_evaluate_model(XGBClassifier(use_label_encoder=False, eval_metric='logloss'), param_grid_xgb, X_scaled, y)"
      ],
      "metadata": {
        "id": "yIyqDa_inYom"
      },
      "execution_count": null,
      "outputs": []
    }
  ]
}