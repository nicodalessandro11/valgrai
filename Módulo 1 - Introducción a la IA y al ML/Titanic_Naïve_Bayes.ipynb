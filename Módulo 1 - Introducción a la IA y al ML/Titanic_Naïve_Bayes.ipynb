{
  "nbformat": 4,
  "nbformat_minor": 0,
  "metadata": {
    "colab": {
      "provenance": []
    },
    "kernelspec": {
      "name": "python3",
      "display_name": "Python 3"
    },
    "language_info": {
      "name": "python"
    }
  },
  "cells": [
    {
      "cell_type": "markdown",
      "source": [
        "# Titanic con regresión logística"
      ],
      "metadata": {
        "id": "MMa8KtdYk_gX"
      }
    },
    {
      "cell_type": "code",
      "execution_count": null,
      "metadata": {
        "id": "Iw8eoB4Gk6eR"
      },
      "outputs": [],
      "source": [
        "import pandas as pd\n",
        "import numpy as np\n",
        "import seaborn as sns\n",
        "import matplotlib.pyplot as plt\n",
        "from sklearn.naive_bayes import GaussianNB  # Para Naive Bayes Gaussiano\n",
        "from sklearn.model_selection import train_test_split\n",
        "from sklearn.metrics import confusion_matrix, classification_report\n",
        "from sklearn.metrics import precision_score, recall_score, f1_score, accuracy_score\n",
        "from sklearn.preprocessing import StandardScaler\n",
        "from sklearn.model_selection import cross_val_score"
      ]
    },
    {
      "cell_type": "code",
      "source": [
        "df = pd.read_csv('https://raw.githubusercontent.com/datasciencedojo/datasets/master/titanic.csv')  # update this to where your file is located"
      ],
      "metadata": {
        "id": "EIqWUUVMlcUx"
      },
      "execution_count": null,
      "outputs": []
    },
    {
      "cell_type": "code",
      "source": [
        "df.head()"
      ],
      "metadata": {
        "id": "I6bEg9nJlnyf"
      },
      "execution_count": null,
      "outputs": []
    },
    {
      "cell_type": "code",
      "source": [
        "df.describe()"
      ],
      "metadata": {
        "id": "JztXjIWEmZjY"
      },
      "execution_count": null,
      "outputs": []
    },
    {
      "cell_type": "code",
      "source": [
        "# Verifica los valores faltantes en cada columna\n",
        "missing_values = df.isnull().sum()\n",
        "\n",
        "# Muestra los valores faltantes en cada columna de manera ordenada\n",
        "print(missing_values)"
      ],
      "metadata": {
        "id": "2vTZx7uMm9dI"
      },
      "execution_count": null,
      "outputs": []
    },
    {
      "cell_type": "code",
      "source": [
        "# Calcula la matriz de correlación\n",
        "correlation_matrix = df.corr()\n",
        "\n",
        "# Crea un mapa de calor (heatmap) de la matriz de correlación\n",
        "plt.figure(figsize=(10, 8))\n",
        "sns.heatmap(correlation_matrix, annot=True, cmap='coolwarm', fmt=\".2f\", linewidths=0.5)\n",
        "plt.title(\"Matriz de Correlación del Titanic\")\n",
        "plt.show()"
      ],
      "metadata": {
        "id": "9vb1o4LsnUhL"
      },
      "execution_count": null,
      "outputs": []
    },
    {
      "cell_type": "code",
      "source": [
        "# Contar los elementos de cada clase en 'Survived'\n",
        "survived_counts = df['Survived'].value_counts()\n",
        "\n",
        "print(survived_counts)\n",
        "\n",
        "# Crear un gráfico de barras utilizando Seaborn\n",
        "plt.figure(figsize=(8, 6))\n",
        "sns.barplot(x=survived_counts.index, y=survived_counts.values)\n",
        "plt.title('Conteo de Sobrevivientes (1) y No Sobrevivientes (0)')\n",
        "plt.xlabel('Estado de Supervivencia')\n",
        "plt.ylabel('Cantidad')\n",
        "plt.show()"
      ],
      "metadata": {
        "id": "VyUvGDTNoUTo"
      },
      "execution_count": null,
      "outputs": []
    },
    {
      "cell_type": "code",
      "source": [
        "df = df.drop(['Cabin', 'Ticket', 'Name', 'PassengerId'], axis=1)"
      ],
      "metadata": {
        "id": "nRWIKZCuo21B"
      },
      "execution_count": null,
      "outputs": []
    },
    {
      "cell_type": "code",
      "source": [
        "df.head()"
      ],
      "metadata": {
        "id": "N49pyuYZpKh7"
      },
      "execution_count": null,
      "outputs": []
    },
    {
      "cell_type": "code",
      "source": [
        "# Supongamos que 'df' es tu DataFrame del Titanic\n",
        "# Calcula la media de edad\n",
        "mean_age = df['Age'].mean()\n",
        "\n",
        "# Imputa los valores faltantes en 'Age' con la media\n",
        "df['Age'].fillna(mean_age, inplace=True)"
      ],
      "metadata": {
        "id": "FM_EeD_dpnPo"
      },
      "execution_count": null,
      "outputs": []
    },
    {
      "cell_type": "code",
      "source": [
        "df = pd.get_dummies(df, drop_first=True)"
      ],
      "metadata": {
        "id": "m6SaEFA5qK2W"
      },
      "execution_count": null,
      "outputs": []
    },
    {
      "cell_type": "code",
      "source": [
        "df.head()"
      ],
      "metadata": {
        "id": "cwaSYMffqQR2"
      },
      "execution_count": null,
      "outputs": []
    },
    {
      "cell_type": "code",
      "source": [
        "X = df.drop('Survived', axis=1)\n",
        "y = df['Survived']"
      ],
      "metadata": {
        "id": "ikaVBLG-qlQb"
      },
      "execution_count": null,
      "outputs": []
    },
    {
      "cell_type": "markdown",
      "source": [
        "En el caso de regresión logística obtuvimos:\n",
        "\n",
        "Matriz de Confusión:\n",
        " [[465  84]\n",
        " [104 238]]\n",
        "Accuracy: 0.7890011223344556\n",
        "Recall: 0.695906432748538\n",
        "Precision: 0.7391304347826086\n",
        "F1 Score: 0.716867469879518\n",
        "Informe de Clasificación:\n",
        "               precision    recall  f1-score   support\n",
        "\n",
        "           0       0.82      0.85      0.83       549\n",
        "           1       0.74      0.70      0.72       342\n",
        "\n",
        "    accuracy                           0.79       891\n",
        "   macro avg       0.78      0.77      0.77       891\n",
        "weighted avg       0.79      0.79      0.79       891"
      ],
      "metadata": {
        "id": "BPzS5OEfuMMn"
      }
    },
    {
      "cell_type": "code",
      "source": [
        "from sklearn.model_selection import cross_val_predict, cross_val_score\n",
        "from sklearn.metrics import confusion_matrix, accuracy_score, recall_score, precision_score, f1_score, classification_report\n",
        "\n",
        "# Crear un modelo con Naïve Bayes\n",
        "model = GaussianNB()\n",
        "\n",
        "# Realizar la validación cruzada y obtener las predicciones\n",
        "y_pred = cross_val_predict(model, X, y, cv=5)\n",
        "\n",
        "# Calcular las métricas de evaluación\n",
        "confusion = confusion_matrix(y, y_pred)\n",
        "accuracy = accuracy_score(y, y_pred)\n",
        "recall = recall_score(y, y_pred)\n",
        "precision = precision_score(y, y_pred)\n",
        "f1 = f1_score(y, y_pred)\n",
        "classification_rep = classification_report(y, y_pred)\n",
        "\n",
        "# Mostrar la matriz de confusión\n",
        "print(\"Matriz de Confusión:\\n\", confusion)\n",
        "\n",
        "# Mostrar las métricas de evaluación\n",
        "print(\"Accuracy:\", accuracy)\n",
        "print(\"Recall:\", recall)\n",
        "print(\"Precision:\", precision)\n",
        "print(\"F1 Score:\", f1)\n",
        "\n",
        "# Mostrar el informe de clasificación por clase\n",
        "print(\"Informe de Clasificación:\\n\", classification_rep)\n"
      ],
      "metadata": {
        "id": "5xx10BsDrHvc"
      },
      "execution_count": null,
      "outputs": []
    }
  ]
}